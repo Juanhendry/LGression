{
 "cells": [
  {
   "cell_type": "code",
   "execution_count": 9,
   "id": "909f4084",
   "metadata": {},
   "outputs": [
    {
     "name": "stdout",
     "output_type": "stream",
     "text": [
      "size data 7\n",
      "row index 1 3\n",
      "Prediksi untuk tanggal 1 adalah -1.7142857142857135\n",
      "Prediksi untuk tanggal 2 adalah 0.5714285714285721\n",
      "Prediksi untuk tanggal 3 adalah 2.8571428571428577\n",
      "Prediksi untuk tanggal 4 adalah 5.142857142857143\n",
      "Prediksi untuk tanggal 5 adalah 7.428571428571428\n",
      "Prediksi untuk tanggal 6 adalah 9.714285714285715\n",
      "Prediksi untuk tanggal 7 adalah 12.0\n",
      "actual  1\n",
      "actual  2\n",
      "actual  3\n",
      "actual  4\n",
      "actual  5\n",
      "actual  6\n",
      "actual  7\n",
      "MAPE = 79.73%\n"
     ]
    }
   ],
   "source": [
    "# masukkan data ke dalam array\n",
    "data = [[1, 1],\n",
    "        [2, 1],\n",
    "        [3, 0],\n",
    "        [4, 0],\n",
    "        [5, 3],\n",
    "        [6, 27],\n",
    "        [7, 4]]\n",
    "\n",
    "# hitung rata-rata dan varian data\n",
    "n = len(data)\n",
    "print(\"size data\",n)\n",
    "sum_x = sum([row[0] for row in data])\n",
    "sum_y = sum([row[1] for row in data])\n",
    "print(\"row index 1\",row[0])\n",
    "mean_x = sum_x/n\n",
    "mean_y = sum_y/n\n",
    "var_x = sum([(row[0]-mean_x)**2 for row in data])/(n-1)\n",
    "cov_xy = sum([(row[0]-mean_x)*(row[1]-mean_y) for row in data])/(n-1)\n",
    "\n",
    "# hitung koefisien regresi linear\n",
    "slope = cov_xy/var_x\n",
    "intercept = mean_y - slope*mean_x\n",
    "\n",
    "# buat fungsi untuk melakukan prediksi\n",
    "def predict(x):\n",
    "    return slope*x + intercept\n",
    "\n",
    "# lakukan prediksi untuk setiap tanggal\n",
    "for i in range(1, 8):\n",
    "    print(\"Prediksi untuk tanggal {} adalah {}\".format(i, predict(i)))\n",
    "\n",
    "# hitung MAPE untuk data asli dan prediksi\n",
    "total_error = 0\n",
    "for row in data:\n",
    "    actual = row[0]\n",
    "    predicted = predict(row[0])\n",
    "    error = abs((actual - predicted) / actual)\n",
    "    print(\"actual \",actual)\n",
    "    total_error += error\n",
    "mape = (total_error / n) * 100\n",
    "print(\"MAPE = {:.2f}%\".format(mape))\n"
   ]
  },
  {
   "cell_type": "code",
   "execution_count": null,
   "id": "2bcb0a17",
   "metadata": {},
   "outputs": [],
   "source": []
  }
 ],
 "metadata": {
  "kernelspec": {
   "display_name": "Python 3 (ipykernel)",
   "language": "python",
   "name": "python3"
  },
  "language_info": {
   "codemirror_mode": {
    "name": "ipython",
    "version": 3
   },
   "file_extension": ".py",
   "mimetype": "text/x-python",
   "name": "python",
   "nbconvert_exporter": "python",
   "pygments_lexer": "ipython3",
   "version": "3.9.15"
  }
 },
 "nbformat": 4,
 "nbformat_minor": 5
}
