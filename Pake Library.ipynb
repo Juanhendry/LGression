{
 "cells": [
  {
   "cell_type": "code",
   "execution_count": 2,
   "id": "403041de",
   "metadata": {},
   "outputs": [
    {
     "ename": "TypeError",
     "evalue": "'numpy.ndarray' object is not callable",
     "output_type": "error",
     "traceback": [
      "\u001b[1;31m---------------------------------------------------------------------------\u001b[0m",
      "\u001b[1;31mTypeError\u001b[0m                                 Traceback (most recent call last)",
      "\u001b[1;32m~\\AppData\\Local\\Temp\\ipykernel_18468\\2753035272.py\u001b[0m in \u001b[0;36m<module>\u001b[1;34m\u001b[0m\n\u001b[0;32m     23\u001b[0m \u001b[1;31m#note\u001b[0m\u001b[1;33m\u001b[0m\u001b[1;33m\u001b[0m\u001b[0m\n\u001b[0;32m     24\u001b[0m \u001b[1;31m#//nambah penjelasan prediksi//\u001b[0m\u001b[1;33m\u001b[0m\u001b[1;33m\u001b[0m\u001b[0m\n\u001b[1;32m---> 25\u001b[1;33m \u001b[0mprint\u001b[0m \u001b[1;33m(\u001b[0m\u001b[1;34m\"predictions\"\u001b[0m\u001b[1;33m,\u001b[0m \u001b[0mpredictions\u001b[0m\u001b[1;33m)\u001b[0m\u001b[1;33m\u001b[0m\u001b[1;33m\u001b[0m\u001b[0m\n\u001b[0m",
      "\u001b[1;31mTypeError\u001b[0m: 'numpy.ndarray' object is not callable"
     ]
    }
   ],
   "source": [
    "import pandas as pd\n",
    "from sklearn.linear_model import LinearRegression\n",
    "from sklearn.metrics import mean_absolute_error\n",
    "import numpy as np\n",
    "\n",
    "# load data\n",
    "data = pd.read_excel(\"CHEESE CLUB 70GR.xlsx\")\n",
    "data['TANGGAL'] = pd.to_datetime(data['TANGGAL'])\n",
    "data['DAY'] = data['TANGGAL'].dt.dayofyear\n",
    "\n",
    "# membuat model regresi linear\n",
    "model = LinearRegression()\n",
    "model.fit(data[['DAY']], data['JUMLAH PENJUALAN'])\n",
    "\n",
    "# memprediksi 7 hari kedepan\n",
    "last_day = data['DAY'].tail(1).values[0]\n",
    "predictions = np.array(last_day).ravel()\n",
    "\n",
    "# perhitungan MAPE\n",
    "#mape = np.mean(np.abs((data['JUMLAH PENJUALAN'].tail(7) - predictions) / data['JUMLAH PENJUALAN'].tail(7))) * 100\n",
    "#print(\"Mean Absolute Percentage Error: \", mape, \"%\")\n",
    "\n",
    "#note\n",
    "#//nambah penjelasan prediksi//\n",
    "print (\"predictions\", predictions)\n"
   ]
  },
  {
   "cell_type": "code",
   "execution_count": null,
   "id": "a3aa4a0a",
   "metadata": {},
   "outputs": [],
   "source": [
    "def mean_absolute_percentage_error(actual, predicted):\n",
    "    # konversi kedua list menjadi array numpy\n",
    "    actual = np.array(model)\n",
    "    predictions = np.array(predictions)\n",
    "    \n",
    "    # hitung selisih absolut antara actual dan predicted\n",
    "    abs_error = np.abs((model - predictions) / model)\n",
    "    \n",
    "    # hitung rata-rata dari selisih absolut\n",
    "    mape = np.mean(abs_error) * 100\n",
    "    \n",
    "    return mape\n"
   ]
  },
  {
   "cell_type": "code",
   "execution_count": null,
   "id": "f8d375cc",
   "metadata": {},
   "outputs": [],
   "source": []
  },
  {
   "cell_type": "code",
   "execution_count": null,
   "id": "92fc9e93",
   "metadata": {},
   "outputs": [],
   "source": []
  }
 ],
 "metadata": {
  "kernelspec": {
   "display_name": "Python 3 (ipykernel)",
   "language": "python",
   "name": "python3"
  },
  "language_info": {
   "codemirror_mode": {
    "name": "ipython",
    "version": 3
   },
   "file_extension": ".py",
   "mimetype": "text/x-python",
   "name": "python",
   "nbconvert_exporter": "python",
   "pygments_lexer": "ipython3",
   "version": "3.9.15"
  }
 },
 "nbformat": 4,
 "nbformat_minor": 5
}
